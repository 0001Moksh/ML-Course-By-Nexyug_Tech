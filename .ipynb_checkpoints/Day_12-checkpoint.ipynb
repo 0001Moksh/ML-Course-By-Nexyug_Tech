{
 "cells": [
  {
   "cell_type": "code",
   "execution_count": 1,
   "id": "bdfb77e0",
   "metadata": {
    "vscode": {
     "languageId": "plaintext"
    }
   },
   "outputs": [
    {
     "name": "stdout",
     "output_type": "stream",
     "text": [
      "Hello World Nexyug Tech\n"
     ]
    }
   ],
   "source": [
    "print(\"Hello World Nexyug Tech\")"
   ]
  },
  {
   "cell_type": "code",
   "execution_count": null,
   "id": "39fe344f",
   "metadata": {},
   "outputs": [],
   "source": []
  }
 ],
 "metadata": {
  "kernelspec": {
   "display_name": "Python 3 (ipykernel)",
   "language": "python",
   "name": "python3"
  },
  "language_info": {
   "codemirror_mode": {
    "name": "ipython",
    "version": 3
   },
   "file_extension": ".py",
   "mimetype": "text/x-python",
   "name": "python",
   "nbconvert_exporter": "python",
   "pygments_lexer": "ipython3",
   "version": "3.12.6"
  }
 },
 "nbformat": 4,
 "nbformat_minor": 5
}
